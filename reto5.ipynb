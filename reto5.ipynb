{
 "cells": [
  {
   "cell_type": "markdown",
   "metadata": {},
   "source": [
    "# Punto 1"
   ]
  },
  {
   "cell_type": "code",
   "execution_count": null,
   "metadata": {},
   "outputs": [],
   "source": [
    "import math\n",
    "\n",
    "def generatriz (r2 : float, h: float) -> float:\n",
    "    return math.sqrt (r2**2 + h**2)\n",
    "\n",
    "\n",
    "def volumen_figuras (r1: float, r2:float, h: float) -> float:\n",
    "    volumen_cono= (math.pi * r2**2 * h) /3\n",
    "    volumen_esfe= (4 * math.pi * r1**3) / 3\n",
    "    res_vol= volumen_cono+volumen_esfe\n",
    "    return res_vol\n",
    "\n",
    "def area_sup (r1: float, r2:float, h: float) -> float:\n",
    "    long_generatriz= generatriz (r2, h)\n",
    "    res_superficial= (4* math.pi * r1**2) + ((long_generatriz*math.pi*r2)+ (math.pi*r2**2))\n",
    "    return res_superficial\n",
    "\n",
    "if __name__==\"__main__\":\n",
    "    r1 = float (input(\"ingrese el radio de la esfera: \"))\n",
    "    r2 = float (input(\"ingrese el radio del cono: \"))\n",
    "    h = float (input(\"ingrese la altura del cono: \"))\n",
    "\n",
    "    volumen = volumen_figuras (r1, r2, h)\n",
    "    area_superficie= area_sup (r1, r2, h)\n",
    "\n",
    "    print (\"El volumen es de\"+ str (volumen) + \"cm cubicos\")\n",
    "    print (\"El area superficial es de \"+ str( area_superficie) + \"cm cuadrados\" )\n",
    "\n",
    "\n",
    "\n",
    "    "
   ]
  },
  {
   "cell_type": "markdown",
   "metadata": {},
   "source": [
    "# Punto 2"
   ]
  },
  {
   "cell_type": "code",
   "execution_count": 5,
   "metadata": {},
   "outputs": [
    {
     "name": "stdout",
     "output_type": "stream",
     "text": [
      "El area total es de 169.07963267948966cm cuadrados\n",
      "El perimetro total es de 45.41592653589793cm\n"
     ]
    }
   ],
   "source": [
    "import math\n",
    "\n",
    "def area_total (b: float, a: float, r: float) -> float:\n",
    "    area_retangulo= b * a \n",
    "    areas_circulos= (math.pi*r**2)*2\n",
    "    rta_area= area_retangulo+areas_circulos\n",
    "    return rta_area\n",
    "\n",
    "def perimetro_total (b: float, a: float, r: float) -> float:\n",
    "    perimetro_rectangulo= 2*a+2*b\n",
    "    perimettro_ciruclos= 2*math.pi*r\n",
    "    rta_perimetro= perimetro_rectangulo+perimettro_ciruclos\n",
    "    return rta_perimetro\n",
    "\n",
    "if __name__==\"__main__\":\n",
    "    b = float (input(\"Ingrese la medida de un lado del rectangulo: \"))\n",
    "    a= float(input(\"ingrese la medida del tro lado del rectangulo: \"))\n",
    "    r= float (input(\"ingrese el radio de las circunferencias: \"))\n",
    "\n",
    "    perimetro= perimetro_total (b,a,r)\n",
    "    area= area_total (b,a,r)\n",
    "\n",
    "    print (\"El area total es de \"+ str(area)+ \"cm cuadrados\")\n",
    "    print (\"El perimetro total es de \"+ str (perimetro)+ \"cm\")\n",
    "\n",
    "\n",
    "\n",
    "\n",
    "\n",
    "\n"
   ]
  },
  {
   "cell_type": "markdown",
   "metadata": {},
   "source": [
    "# Punto 3\n"
   ]
  },
  {
   "cell_type": "code",
   "execution_count": 7,
   "metadata": {},
   "outputs": [
    {
     "name": "stdout",
     "output_type": "stream",
     "text": [
      "la cantidad total de kg es de: 28\n"
     ]
    }
   ],
   "source": [
    "\n",
    "def kilos (N: int, M: int, K:int) -> int: \n",
    "    peso_gallos= 7\n",
    "    peso_gallinas= 6\n",
    "    peso_pollitos= 1\n",
    "\n",
    "    carne_galli= N* peso_gallinas\n",
    "    carne_gallo= M* peso_gallos\n",
    "    carne_pollo= K*peso_pollitos\n",
    "\n",
    "    kilo_total= carne_gallo+carne_galli+carne_pollo\n",
    "\n",
    "    return kilo_total\n",
    "\n",
    "if __name__==\"__main__\":\n",
    "    N= int(input(\"ingrese la cantidad de galinas: \"))\n",
    "    M= int(input(\"ingrese la cantidad de gallos: \"))\n",
    "    K= int (input(\"ingrese la cantidad de pollitos\"))\n",
    "\n",
    "    total= kilos (N,M,K)\n",
    "\n",
    "    print(\"la cantidad total de kg es de: \"+ str(total))"
   ]
  },
  {
   "cell_type": "markdown",
   "metadata": {},
   "source": [
    "# Punto 4"
   ]
  },
  {
   "cell_type": "code",
   "execution_count": 12,
   "metadata": {},
   "outputs": [
    {
     "name": "stdout",
     "output_type": "stream",
     "text": [
      "El valor del prestamo es de: 1104080.8032\n"
     ]
    }
   ],
   "source": [
    "def interes_compuesto (c: float, i: float, n: int) -> float:\n",
    "    \n",
    "    porcentaje= i/100\n",
    "    rta_interes= c *((1 + porcentaje)**n) \n",
    "\n",
    "    total_intcompuesto= rta_interes\n",
    "    return total_intcompuesto\n",
    "\n",
    "if __name__==\"__main__\":\n",
    "    c= float (input(\"Ingrese el valor del prestamo: \"))\n",
    "    i= float (input(\"ingrese la tasa de interes (sin el simbolo\" + chr (37)+\")\"))\n",
    "    n= int (input(\"Ingrese la cantidad de meses: \"))\n",
    "\n",
    "    total= interes_compuesto (c, i, n)\n",
    "\n",
    "    print (\"El valor del prestamo es de: \" + str (total))"
   ]
  },
  {
   "cell_type": "markdown",
   "metadata": {},
   "source": [
    "# Punto 5"
   ]
  },
  {
   "cell_type": "code",
   "execution_count": 21,
   "metadata": {},
   "outputs": [
    {
     "name": "stdout",
     "output_type": "stream",
     "text": [
      "El promedio es 3.0\n",
      "El promedio multiplicativo es 2.605171084697352\n",
      "El potencia del mayor número elevado al menor número es: 5.0\n",
      "La raíz cúbica del menor número es: 1.0\n"
     ]
    }
   ],
   "source": [
    "def promedio (na: float, nb: float, nc: float, nd: float, ne: float) -> float:\n",
    "    promedio_rta = (na+nb+nc+nd+ne)/5\n",
    "    promed= promedio_rta\n",
    "    return promed\n",
    "\n",
    "def promedio_multiplicativo (na: float, nb: float, nc: float, nd: float, ne: float) -> float:\n",
    "    promedio_multiplicativo_rta= (na*nb*nc*nd*ne)**(1/5)\n",
    "    return promedio_multiplicativo_rta\n",
    "\n",
    "def potencias (na: float, nb: float, nc: float, nd: float, ne: float) -> float:\n",
    "    numeros = [na, nb, nc, nd, ne]\n",
    "\n",
    "    numero_mayor= max (numeros)\n",
    "    numero_menor= min (numeros)\n",
    "    rta_potencias= numero_mayor**numero_menor\n",
    "\n",
    "    return rta_potencias\n",
    "\n",
    "def raiz (na: float, nb: float, nc: float, nd: float, ne: float) -> float:\n",
    "    numeros2 = [na, nb, nc, nd, ne]\n",
    "\n",
    "    numero_menor_2= min (numeros2)\n",
    "    raiz_cubica= numero_menor_2**(1/3)\n",
    "\n",
    "    return raiz_cubica\n",
    "\n",
    "if __name__== \"__main__\":\n",
    "\n",
    "    na= float(input(\"Ingrese el primer numero: \"))\n",
    "    nb= float(input(\"Ingrese el segundo numero: \"))\n",
    "    nc= float(input(\"Ingrese el tercer numero: \"))\n",
    "    nd= float(input(\"Ingrese el cuarto numero: \"))\n",
    "    ne= float(input(\"Ingrese el quinto numero: \"))\n",
    "\n",
    "    rta_promedio= promedio (na,nb,nc,nd,ne)\n",
    "    rta_promedio_multi= promedio_multiplicativo (na,nb,nc,nd,ne)\n",
    "    rta_potencia= potencias(na,nb,nc,nd,ne)\n",
    "    rta_raiz= raiz(na,nb,nc,nd,ne)\n",
    "\n",
    "\n",
    "\n",
    "    print (\"El promedio es \" + str(rta_promedio))\n",
    "    print (\"El promedio multiplicativo es \" + str (rta_promedio_multi))\n",
    "    print (\"El potencia del mayor número elevado al menor número es: \"+ str (rta_potencia))\n",
    "    print (\"La raíz cúbica del menor número es: \"+ str(rta_raiz))\n",
    "\n",
    "\n",
    "\n",
    "\n",
    "\n",
    "\n",
    "\n",
    "\n",
    "\n"
   ]
  },
  {
   "cell_type": "markdown",
   "metadata": {},
   "source": [
    "# Punto 6"
   ]
  },
  {
   "cell_type": "markdown",
   "metadata": {},
   "source": [
    "## ¿Qué es _pip_?\n",
    "##### Es una herramienta para la gestión de paquetes y librerias que originalmente no estan inlcuidos dentro de _phyton_. Estos paquetes de *software* son módulos que pueden ser usados en una gran variedad de proyectos, pues tienen la capacidad de facilitar una gran variedad de operaciones y procesos; por ejemplo en las matemáticas o analisis de datos."
   ]
  },
  {
   "cell_type": "markdown",
   "metadata": {},
   "source": [
    "--- \n",
    "## ¿Cómo instalar modulos de _pip_ en _python_?\n",
    "\n",
    "**Nota:** `pip` fue incluido en _python_ a partir de la version 3.4. En versiones anteriores debe ser instalado.\n",
    "\n",
    "- Con el siguiente código se podra verificar si `pip` esta instalado\n",
    "\n",
    "```\n",
    "py -m pip --version\n",
    "```\n",
    "\n",
    "- Despues de asegurarse que `pip` esta intalado, para instalar módulos se hace de la suguiente manera:\n",
    "\n",
    "```\n",
    "pip install nombre_del_programa\n",
    "```\n",
    "-> por ejemplo:\n",
    "\n",
    "```\n",
    "pip install requests\n",
    "```\n",
    "\n",
    "---\n",
    "\n",
    "## Algunos de los modulos de _pip_ : \n",
    "\n",
    "- **Django**: Un framework de alto nivel para desarrollar aplicaciones web en Python.\n",
    "- **matplotlib**: Una biblioteca para crear visualizaciones de datos y gráficos.\n",
    "- **Pillow** : Una biblioteca para abrir, manipular y guardar imágenes en varios formatos.\n",
    "- **Scipy**  Una biblioteca para algoritmos matemáticos y científicos.\n",
    "- **Pygame**: Una biblioteca para crear videojuegos y aplicaciones multimedia.\n",
    "- **Colorama**: Para imprimir texto en colores en la consola.\n"
   ]
  }
 ],
 "metadata": {
  "kernelspec": {
   "display_name": "Python 3",
   "language": "python",
   "name": "python3"
  },
  "language_info": {
   "codemirror_mode": {
    "name": "ipython",
    "version": 3
   },
   "file_extension": ".py",
   "mimetype": "text/x-python",
   "name": "python",
   "nbconvert_exporter": "python",
   "pygments_lexer": "ipython3",
   "version": "3.10.11"
  }
 },
 "nbformat": 4,
 "nbformat_minor": 2
}
